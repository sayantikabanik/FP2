{
 "cells": [
  {
   "cell_type": "code",
   "execution_count": 1,
   "metadata": {},
   "outputs": [],
   "source": [
    "import pandas as pd\n",
    "import numpy as np\n"
   ]
  },
  {
   "cell_type": "code",
   "execution_count": 11,
   "metadata": {},
   "outputs": [
    {
     "name": "stdout",
     "output_type": "stream",
     "text": [
      "Collecting lightgbm\n",
      "  Downloading lightgbm-3.3.2-py3-none-win_amd64.whl (1.0 MB)\n",
      "Requirement already satisfied: numpy in c:\\users\\dillu\\anaconda3\\lib\\site-packages (from lightgbm) (1.20.3)\n",
      "Requirement already satisfied: scipy in c:\\users\\dillu\\appdata\\roaming\\python\\python37\\site-packages (from lightgbm) (1.6.2)\n",
      "Requirement already satisfied: wheel in c:\\users\\dillu\\anaconda3\\lib\\site-packages (from lightgbm) (0.34.2)\n",
      "Requirement already satisfied: scikit-learn!=0.22.0 in c:\\users\\dillu\\anaconda3\\lib\\site-packages (from lightgbm) (1.0.1)\n",
      "Requirement already satisfied: threadpoolctl>=2.0.0 in c:\\users\\dillu\\anaconda3\\lib\\site-packages (from scikit-learn!=0.22.0->lightgbm) (3.0.0)\n",
      "Requirement already satisfied: joblib>=0.11 in c:\\users\\dillu\\anaconda3\\lib\\site-packages (from scikit-learn!=0.22.0->lightgbm) (0.14.1)\n",
      "Installing collected packages: lightgbm\n",
      "Successfully installed lightgbm-3.3.2\n"
     ]
    }
   ],
   "source": [
    "import numpy as np\n",
    "import pandas as pd\n",
    "import matplotlib.pyplot as plt\n",
    "import seaborn as sns\n",
    "from scipy import stats\n",
    "\n",
    "from sklearn.model_selection import train_test_split\n",
    "from sklearn.metrics import mean_squared_error\n",
    "from sklearn.linear_model import LinearRegression\n",
    "from sklearn.linear_model import Ridge\n",
    "from sklearn.linear_model import Lasso\n",
    "from sklearn.linear_model import ElasticNet\n",
    "\n",
    "\n",
    "!pip install lightgbm\n",
    "from lightgbm import LGBMRegressor\n",
    "from lightgbm import plot_importance\n",
    "\n",
    "\n",
    "# Model Tuning\n",
    "\n",
    "from sklearn.model_selection import GridSearchCV\n",
    "from sklearn.model_selection import cross_val_score\n"
   ]
  },
  {
   "cell_type": "code",
   "execution_count": 2,
   "metadata": {},
   "outputs": [
    {
     "data": {
      "text/html": [
       "<div>\n",
       "<style scoped>\n",
       "    .dataframe tbody tr th:only-of-type {\n",
       "        vertical-align: middle;\n",
       "    }\n",
       "\n",
       "    .dataframe tbody tr th {\n",
       "        vertical-align: top;\n",
       "    }\n",
       "\n",
       "    .dataframe thead th {\n",
       "        text-align: right;\n",
       "    }\n",
       "</style>\n",
       "<table border=\"1\" class=\"dataframe\">\n",
       "  <thead>\n",
       "    <tr style=\"text-align: right;\">\n",
       "      <th></th>\n",
       "      <th>Date</th>\n",
       "      <th>COMM_NAME</th>\n",
       "      <th>COMM_CODE</th>\n",
       "      <th>COMM_CATEGORY</th>\n",
       "      <th>COMM_WT</th>\n",
       "      <th>Monthly Price</th>\n",
       "      <th>Rainfall</th>\n",
       "    </tr>\n",
       "  </thead>\n",
       "  <tbody>\n",
       "    <tr>\n",
       "      <th>0</th>\n",
       "      <td>2011-04-01</td>\n",
       "      <td>Paddy</td>\n",
       "      <td>1101010101</td>\n",
       "      <td>CEREALS</td>\n",
       "      <td>1.43052</td>\n",
       "      <td>97.5</td>\n",
       "      <td>41.00</td>\n",
       "    </tr>\n",
       "    <tr>\n",
       "      <th>1</th>\n",
       "      <td>2011-04-01</td>\n",
       "      <td>Paddy</td>\n",
       "      <td>1101010101</td>\n",
       "      <td>CEREALS</td>\n",
       "      <td>1.43052</td>\n",
       "      <td>97.5</td>\n",
       "      <td>40.59</td>\n",
       "    </tr>\n",
       "    <tr>\n",
       "      <th>2</th>\n",
       "      <td>2011-04-01</td>\n",
       "      <td>Wheat</td>\n",
       "      <td>1101010102</td>\n",
       "      <td>CEREALS</td>\n",
       "      <td>1.02823</td>\n",
       "      <td>101.1</td>\n",
       "      <td>41.00</td>\n",
       "    </tr>\n",
       "    <tr>\n",
       "      <th>3</th>\n",
       "      <td>2011-04-01</td>\n",
       "      <td>Wheat</td>\n",
       "      <td>1101010102</td>\n",
       "      <td>CEREALS</td>\n",
       "      <td>1.02823</td>\n",
       "      <td>101.1</td>\n",
       "      <td>40.59</td>\n",
       "    </tr>\n",
       "    <tr>\n",
       "      <th>4</th>\n",
       "      <td>2011-04-01</td>\n",
       "      <td>Jowar</td>\n",
       "      <td>1101010103</td>\n",
       "      <td>CEREALS</td>\n",
       "      <td>0.06764</td>\n",
       "      <td>84.5</td>\n",
       "      <td>41.00</td>\n",
       "    </tr>\n",
       "  </tbody>\n",
       "</table>\n",
       "</div>"
      ],
      "text/plain": [
       "        Date COMM_NAME   COMM_CODE COMM_CATEGORY  COMM_WT  Monthly Price  \\\n",
       "0 2011-04-01     Paddy  1101010101       CEREALS  1.43052           97.5   \n",
       "1 2011-04-01     Paddy  1101010101       CEREALS  1.43052           97.5   \n",
       "2 2011-04-01     Wheat  1101010102       CEREALS  1.02823          101.1   \n",
       "3 2011-04-01     Wheat  1101010102       CEREALS  1.02823          101.1   \n",
       "4 2011-04-01     Jowar  1101010103       CEREALS  0.06764           84.5   \n",
       "\n",
       "   Rainfall  \n",
       "0     41.00  \n",
       "1     40.59  \n",
       "2     41.00  \n",
       "3     40.59  \n",
       "4     41.00  "
      ]
     },
     "execution_count": 2,
     "metadata": {},
     "output_type": "execute_result"
    }
   ],
   "source": [
    "agri_data=pd.read_excel('FPData v1.2.xlsx')\n",
    "agri_data.head()"
   ]
  },
  {
   "cell_type": "code",
   "execution_count": 3,
   "metadata": {},
   "outputs": [
    {
     "data": {
      "text/plain": [
       "Date             datetime64[ns]\n",
       "COMM_NAME                object\n",
       "COMM_CODE                 int64\n",
       "COMM_CATEGORY            object\n",
       "COMM_WT                 float64\n",
       "Monthly Price           float64\n",
       "Rainfall                float64\n",
       "dtype: object"
      ]
     },
     "execution_count": 3,
     "metadata": {},
     "output_type": "execute_result"
    }
   ],
   "source": [
    "agri_data.dtypes\n"
   ]
  },
  {
   "cell_type": "code",
   "execution_count": 4,
   "metadata": {},
   "outputs": [
    {
     "data": {
      "text/html": [
       "<div>\n",
       "<style scoped>\n",
       "    .dataframe tbody tr th:only-of-type {\n",
       "        vertical-align: middle;\n",
       "    }\n",
       "\n",
       "    .dataframe tbody tr th {\n",
       "        vertical-align: top;\n",
       "    }\n",
       "\n",
       "    .dataframe thead th {\n",
       "        text-align: right;\n",
       "    }\n",
       "</style>\n",
       "<table border=\"1\" class=\"dataframe\">\n",
       "  <thead>\n",
       "    <tr style=\"text-align: right;\">\n",
       "      <th></th>\n",
       "      <th>Date</th>\n",
       "      <th>COMM_NAME</th>\n",
       "      <th>COMM_CODE</th>\n",
       "      <th>COMM_CATEGORY</th>\n",
       "      <th>COMM_WT</th>\n",
       "      <th>Monthly Price</th>\n",
       "      <th>Rainfall</th>\n",
       "      <th>Month</th>\n",
       "      <th>year</th>\n",
       "    </tr>\n",
       "  </thead>\n",
       "  <tbody>\n",
       "    <tr>\n",
       "      <th>0</th>\n",
       "      <td>2011-04-01</td>\n",
       "      <td>Paddy</td>\n",
       "      <td>1101010101</td>\n",
       "      <td>CEREALS</td>\n",
       "      <td>1.43052</td>\n",
       "      <td>97.5</td>\n",
       "      <td>41.00</td>\n",
       "      <td>4</td>\n",
       "      <td>2011</td>\n",
       "    </tr>\n",
       "    <tr>\n",
       "      <th>1</th>\n",
       "      <td>2011-04-01</td>\n",
       "      <td>Paddy</td>\n",
       "      <td>1101010101</td>\n",
       "      <td>CEREALS</td>\n",
       "      <td>1.43052</td>\n",
       "      <td>97.5</td>\n",
       "      <td>40.59</td>\n",
       "      <td>4</td>\n",
       "      <td>2011</td>\n",
       "    </tr>\n",
       "    <tr>\n",
       "      <th>2</th>\n",
       "      <td>2011-04-01</td>\n",
       "      <td>Wheat</td>\n",
       "      <td>1101010102</td>\n",
       "      <td>CEREALS</td>\n",
       "      <td>1.02823</td>\n",
       "      <td>101.1</td>\n",
       "      <td>41.00</td>\n",
       "      <td>4</td>\n",
       "      <td>2011</td>\n",
       "    </tr>\n",
       "    <tr>\n",
       "      <th>3</th>\n",
       "      <td>2011-04-01</td>\n",
       "      <td>Wheat</td>\n",
       "      <td>1101010102</td>\n",
       "      <td>CEREALS</td>\n",
       "      <td>1.02823</td>\n",
       "      <td>101.1</td>\n",
       "      <td>40.59</td>\n",
       "      <td>4</td>\n",
       "      <td>2011</td>\n",
       "    </tr>\n",
       "    <tr>\n",
       "      <th>4</th>\n",
       "      <td>2011-04-01</td>\n",
       "      <td>Jowar</td>\n",
       "      <td>1101010103</td>\n",
       "      <td>CEREALS</td>\n",
       "      <td>0.06764</td>\n",
       "      <td>84.5</td>\n",
       "      <td>41.00</td>\n",
       "      <td>4</td>\n",
       "      <td>2011</td>\n",
       "    </tr>\n",
       "  </tbody>\n",
       "</table>\n",
       "</div>"
      ],
      "text/plain": [
       "        Date COMM_NAME   COMM_CODE COMM_CATEGORY  COMM_WT  Monthly Price  \\\n",
       "0 2011-04-01     Paddy  1101010101       CEREALS  1.43052           97.5   \n",
       "1 2011-04-01     Paddy  1101010101       CEREALS  1.43052           97.5   \n",
       "2 2011-04-01     Wheat  1101010102       CEREALS  1.02823          101.1   \n",
       "3 2011-04-01     Wheat  1101010102       CEREALS  1.02823          101.1   \n",
       "4 2011-04-01     Jowar  1101010103       CEREALS  0.06764           84.5   \n",
       "\n",
       "   Rainfall  Month  year  \n",
       "0     41.00      4  2011  \n",
       "1     40.59      4  2011  \n",
       "2     41.00      4  2011  \n",
       "3     40.59      4  2011  \n",
       "4     41.00      4  2011  "
      ]
     },
     "execution_count": 4,
     "metadata": {},
     "output_type": "execute_result"
    }
   ],
   "source": [
    "# extract month and year from dates\n",
    "agri_data['Month'] = [i.month for i in agri_data['Date']]\n",
    "agri_data['year'] = [i.year for i in agri_data['Date']]\n",
    "#agri_data['flag'] = pd.Series(np.where(agri_data['Date'] >= np.datetime64('2020-03-03'), 1, 0)) #flag for COVID-19\n",
    "agri_data.head()"
   ]
  },
  {
   "cell_type": "code",
   "execution_count": 5,
   "metadata": {},
   "outputs": [
    {
     "data": {
      "text/plain": [
       "Index(['Date', 'COMM_NAME', 'COMM_CODE', 'COMM_CATEGORY', 'COMM_WT',\n",
       "       'Monthly Price', 'Rainfall', 'Month', 'year'],\n",
       "      dtype='object')"
      ]
     },
     "execution_count": 5,
     "metadata": {},
     "output_type": "execute_result"
    }
   ],
   "source": [
    "agri_data.columns"
   ]
  },
  {
   "cell_type": "code",
   "execution_count": 6,
   "metadata": {},
   "outputs": [],
   "source": [
    "target='Monthly Price'"
   ]
  },
  {
   "cell_type": "code",
   "execution_count": 7,
   "metadata": {},
   "outputs": [
    {
     "data": {
      "text/html": [
       "<div>\n",
       "<style scoped>\n",
       "    .dataframe tbody tr th:only-of-type {\n",
       "        vertical-align: middle;\n",
       "    }\n",
       "\n",
       "    .dataframe tbody tr th {\n",
       "        vertical-align: top;\n",
       "    }\n",
       "\n",
       "    .dataframe thead th {\n",
       "        text-align: right;\n",
       "    }\n",
       "</style>\n",
       "<table border=\"1\" class=\"dataframe\">\n",
       "  <thead>\n",
       "    <tr style=\"text-align: right;\">\n",
       "      <th></th>\n",
       "      <th>COMM_NAME</th>\n",
       "      <th>COMM_CODE</th>\n",
       "      <th>COMM_CATEGORY</th>\n",
       "      <th>COMM_WT</th>\n",
       "      <th>Monthly Price</th>\n",
       "      <th>Rainfall</th>\n",
       "      <th>Month</th>\n",
       "      <th>year</th>\n",
       "    </tr>\n",
       "    <tr>\n",
       "      <th>Date</th>\n",
       "      <th></th>\n",
       "      <th></th>\n",
       "      <th></th>\n",
       "      <th></th>\n",
       "      <th></th>\n",
       "      <th></th>\n",
       "      <th></th>\n",
       "      <th></th>\n",
       "    </tr>\n",
       "  </thead>\n",
       "  <tbody>\n",
       "    <tr>\n",
       "      <th>2011-04-01</th>\n",
       "      <td>Paddy</td>\n",
       "      <td>1101010101</td>\n",
       "      <td>CEREALS</td>\n",
       "      <td>1.43052</td>\n",
       "      <td>97.5</td>\n",
       "      <td>41.00</td>\n",
       "      <td>4</td>\n",
       "      <td>2011</td>\n",
       "    </tr>\n",
       "    <tr>\n",
       "      <th>2011-04-01</th>\n",
       "      <td>Paddy</td>\n",
       "      <td>1101010101</td>\n",
       "      <td>CEREALS</td>\n",
       "      <td>1.43052</td>\n",
       "      <td>97.5</td>\n",
       "      <td>40.59</td>\n",
       "      <td>4</td>\n",
       "      <td>2011</td>\n",
       "    </tr>\n",
       "    <tr>\n",
       "      <th>2011-04-01</th>\n",
       "      <td>Wheat</td>\n",
       "      <td>1101010102</td>\n",
       "      <td>CEREALS</td>\n",
       "      <td>1.02823</td>\n",
       "      <td>101.1</td>\n",
       "      <td>41.00</td>\n",
       "      <td>4</td>\n",
       "      <td>2011</td>\n",
       "    </tr>\n",
       "    <tr>\n",
       "      <th>2011-04-01</th>\n",
       "      <td>Wheat</td>\n",
       "      <td>1101010102</td>\n",
       "      <td>CEREALS</td>\n",
       "      <td>1.02823</td>\n",
       "      <td>101.1</td>\n",
       "      <td>40.59</td>\n",
       "      <td>4</td>\n",
       "      <td>2011</td>\n",
       "    </tr>\n",
       "    <tr>\n",
       "      <th>2011-04-01</th>\n",
       "      <td>Jowar</td>\n",
       "      <td>1101010103</td>\n",
       "      <td>CEREALS</td>\n",
       "      <td>0.06764</td>\n",
       "      <td>84.5</td>\n",
       "      <td>41.00</td>\n",
       "      <td>4</td>\n",
       "      <td>2011</td>\n",
       "    </tr>\n",
       "  </tbody>\n",
       "</table>\n",
       "</div>"
      ],
      "text/plain": [
       "           COMM_NAME   COMM_CODE COMM_CATEGORY  COMM_WT  Monthly Price  \\\n",
       "Date                                                                     \n",
       "2011-04-01     Paddy  1101010101       CEREALS  1.43052           97.5   \n",
       "2011-04-01     Paddy  1101010101       CEREALS  1.43052           97.5   \n",
       "2011-04-01     Wheat  1101010102       CEREALS  1.02823          101.1   \n",
       "2011-04-01     Wheat  1101010102       CEREALS  1.02823          101.1   \n",
       "2011-04-01     Jowar  1101010103       CEREALS  0.06764           84.5   \n",
       "\n",
       "            Rainfall  Month  year  \n",
       "Date                               \n",
       "2011-04-01     41.00      4  2011  \n",
       "2011-04-01     40.59      4  2011  \n",
       "2011-04-01     41.00      4  2011  \n",
       "2011-04-01     40.59      4  2011  \n",
       "2011-04-01     41.00      4  2011  "
      ]
     },
     "execution_count": 7,
     "metadata": {},
     "output_type": "execute_result"
    }
   ],
   "source": [
    "agri_data.set_index('Date', inplace=True)\n",
    "agri_data.head()"
   ]
  },
  {
   "cell_type": "code",
   "execution_count": 66,
   "metadata": {},
   "outputs": [],
   "source": [
    "# Filtering out records in the dataframe with NULLs in Monthly Price\n",
    "unknown_price_df=agri_data[agri_data['Monthly Price'].isna()]\n",
    "# Filtering out records for June, 2021 to create a forecast dataframe\n",
    "forecast_agri_df=unknown_price_df[(unknown_price_df['year']>2021) |((unknown_price_df['year']==2021) & (unknown_price_df['Month']>6))]\n",
    "forecast_agri_index=forecast_agri_df.index  #indexes of the records in forecast dataframe\n",
    "#Eliminating the records that need to be appear in forecast data from training data\n",
    "agri_data=agri_data.drop(index=forecast_agri_index)"
   ]
  },
  {
   "cell_type": "code",
   "execution_count": null,
   "metadata": {},
   "outputs": [],
   "source": []
  },
  {
   "cell_type": "code",
   "execution_count": 79,
   "metadata": {},
   "outputs": [
    {
     "data": {
      "text/plain": [
       "((11016, 8), (1224, 8))"
      ]
     },
     "execution_count": 79,
     "metadata": {},
     "output_type": "execute_result"
    }
   ],
   "source": [
    "# split data into train-test set\n",
    "train = agri_data[agri_data['year'] < 2020]\n",
    "test = agri_data[agri_data['year'] >= 2020]\n",
    "#check shape\n",
    "train.shape, test.shape"
   ]
  },
  {
   "cell_type": "code",
   "execution_count": 80,
   "metadata": {},
   "outputs": [
    {
     "name": "stderr",
     "output_type": "stream",
     "text": [
      "C:\\Users\\Dillu\\anaconda3\\lib\\site-packages\\ipykernel_launcher.py:3: SettingWithCopyWarning: \n",
      "A value is trying to be set on a copy of a slice from a DataFrame.\n",
      "Try using .loc[row_indexer,col_indexer] = value instead\n",
      "\n",
      "See the caveats in the documentation: https://pandas.pydata.org/pandas-docs/stable/user_guide/indexing.html#returning-a-view-versus-a-copy\n",
      "  This is separate from the ipykernel package so we can avoid doing imports until\n",
      "C:\\Users\\Dillu\\anaconda3\\lib\\site-packages\\ipykernel_launcher.py:4: SettingWithCopyWarning: \n",
      "A value is trying to be set on a copy of a slice from a DataFrame.\n",
      "Try using .loc[row_indexer,col_indexer] = value instead\n",
      "\n",
      "See the caveats in the documentation: https://pandas.pydata.org/pandas-docs/stable/user_guide/indexing.html#returning-a-view-versus-a-copy\n",
      "  after removing the cwd from sys.path.\n",
      "C:\\Users\\Dillu\\anaconda3\\lib\\site-packages\\ipykernel_launcher.py:5: SettingWithCopyWarning: \n",
      "A value is trying to be set on a copy of a slice from a DataFrame.\n",
      "Try using .loc[row_indexer,col_indexer] = value instead\n",
      "\n",
      "See the caveats in the documentation: https://pandas.pydata.org/pandas-docs/stable/user_guide/indexing.html#returning-a-view-versus-a-copy\n",
      "  \"\"\"\n",
      "C:\\Users\\Dillu\\anaconda3\\lib\\site-packages\\ipykernel_launcher.py:6: SettingWithCopyWarning: \n",
      "A value is trying to be set on a copy of a slice from a DataFrame.\n",
      "Try using .loc[row_indexer,col_indexer] = value instead\n",
      "\n",
      "See the caveats in the documentation: https://pandas.pydata.org/pandas-docs/stable/user_guide/indexing.html#returning-a-view-versus-a-copy\n",
      "  \n"
     ]
    }
   ],
   "source": [
    "from sklearn import preprocessing\n",
    "lbl = preprocessing.LabelEncoder()\n",
    "train['COMM_NAME'] = lbl.fit_transform(train['COMM_NAME'].astype(str))\n",
    "train['COMM_CATEGORY'] = lbl.fit_transform(train['COMM_CATEGORY'].astype(str))\n",
    "test['COMM_NAME'] = lbl.fit_transform(test['COMM_NAME'].astype(str))\n",
    "test['COMM_CATEGORY'] = lbl.fit_transform(test['COMM_CATEGORY'].astype(str))"
   ]
  },
  {
   "cell_type": "code",
   "execution_count": 81,
   "metadata": {},
   "outputs": [
    {
     "data": {
      "text/plain": [
       "COMM_NAME          int32\n",
       "COMM_CODE          int64\n",
       "COMM_CATEGORY      int32\n",
       "COMM_WT          float64\n",
       "Monthly Price    float64\n",
       "Rainfall         float64\n",
       "Month              int64\n",
       "year               int64\n",
       "dtype: object"
      ]
     },
     "execution_count": 81,
     "metadata": {},
     "output_type": "execute_result"
    }
   ],
   "source": [
    "train.dtypes"
   ]
  },
  {
   "cell_type": "code",
   "execution_count": 82,
   "metadata": {},
   "outputs": [
    {
     "data": {
      "text/plain": [
       "((10524, 8), (780, 8))"
      ]
     },
     "execution_count": 82,
     "metadata": {},
     "output_type": "execute_result"
    }
   ],
   "source": [
    "train=train.dropna()\n",
    "test=test.dropna()\n",
    "train.shape, test.shape"
   ]
  },
  {
   "cell_type": "code",
   "execution_count": 83,
   "metadata": {},
   "outputs": [],
   "source": [
    "X_train=train.drop('Monthly Price',axis=1)\n",
    "y_train=train['Monthly Price']\n",
    "X_test=test.drop('Monthly Price',axis=1)\n",
    "y_test=test['Monthly Price']"
   ]
  },
  {
   "cell_type": "code",
   "execution_count": 84,
   "metadata": {},
   "outputs": [
    {
     "data": {
      "text/plain": [
       "COMM_NAME          int32\n",
       "COMM_CODE          int64\n",
       "COMM_CATEGORY      int32\n",
       "COMM_WT          float64\n",
       "Monthly Price    float64\n",
       "Rainfall         float64\n",
       "Month              int64\n",
       "year               int64\n",
       "dtype: object"
      ]
     },
     "execution_count": 84,
     "metadata": {},
     "output_type": "execute_result"
    }
   ],
   "source": [
    "train.dtypes"
   ]
  },
  {
   "cell_type": "code",
   "execution_count": 85,
   "metadata": {},
   "outputs": [],
   "source": [
    "regressor=LGBMRegressor(bagging_fraction=0.7, bagging_freq=6, boosting_type='gbdt',\n",
    "              class_weight=None, colsample_bytree=1.0, feature_fraction=1.0,\n",
    "              importance_type='split', learning_rate=0.4, max_depth=-1,\n",
    "              min_child_samples=1, min_child_weight=0.001, min_split_gain=0.2,\n",
    "              n_estimators=100, n_jobs=-1, num_leaves=8, objective=None,\n",
    "              random_state=1212, reg_alpha=0.1, reg_lambda=0.3, silent='warn',\n",
    "              subsample=1.0, subsample_for_bin=200000, subsample_freq=0)"
   ]
  },
  {
   "cell_type": "code",
   "execution_count": 86,
   "metadata": {},
   "outputs": [
    {
     "name": "stdout",
     "output_type": "stream",
     "text": [
      "[LightGBM] [Warning] feature_fraction is set=1.0, colsample_bytree=1.0 will be ignored. Current value: feature_fraction=1.0\n",
      "[LightGBM] [Warning] bagging_fraction is set=0.7, subsample=1.0 will be ignored. Current value: bagging_fraction=0.7\n",
      "[LightGBM] [Warning] bagging_freq is set=6, subsample_freq=0 will be ignored. Current value: bagging_freq=6\n"
     ]
    },
    {
     "data": {
      "text/plain": [
       "40.30845519866382"
      ]
     },
     "execution_count": 86,
     "metadata": {},
     "output_type": "execute_result"
    }
   ],
   "source": [
    "lgb_model = regressor.fit(X_train, y_train)\n",
    "y_pred = lgb_model.predict(X_test)\n",
    "np.sqrt(mean_squared_error(y_test, y_pred))"
   ]
  },
  {
   "cell_type": "code",
   "execution_count": 87,
   "metadata": {},
   "outputs": [
    {
     "data": {
      "text/plain": [
       "40.30845519866382"
      ]
     },
     "execution_count": 87,
     "metadata": {},
     "output_type": "execute_result"
    }
   ],
   "source": [
    "y_pred = lgb_model.predict(X_test)\n",
    "np.sqrt(mean_squared_error(y_test, y_pred))"
   ]
  },
  {
   "cell_type": "code",
   "execution_count": null,
   "metadata": {},
   "outputs": [],
   "source": []
  },
  {
   "cell_type": "code",
   "execution_count": null,
   "metadata": {},
   "outputs": [],
   "source": []
  }
 ],
 "metadata": {
  "kernelspec": {
   "display_name": "Python 3",
   "language": "python",
   "name": "python3"
  },
  "language_info": {
   "codemirror_mode": {
    "name": "ipython",
    "version": 3
   },
   "file_extension": ".py",
   "mimetype": "text/x-python",
   "name": "python",
   "nbconvert_exporter": "python",
   "pygments_lexer": "ipython3",
   "version": "3.7.6"
  }
 },
 "nbformat": 4,
 "nbformat_minor": 4
}
